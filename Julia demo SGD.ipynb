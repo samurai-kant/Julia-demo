{
 "cells": [
  {
   "cell_type": "code",
   "execution_count": 1,
   "id": "handmade-combat",
   "metadata": {},
   "outputs": [],
   "source": [
    "#import Libraries\n",
    "using Zygote\n",
    "using LinearAlgebra"
   ]
  },
  {
   "cell_type": "code",
   "execution_count": 2,
   "id": "informal-break",
   "metadata": {},
   "outputs": [],
   "source": [
    "#basic model of Linear\n",
    "mutable struct Linear\n",
    "    W\n",
    "    b\n",
    "end\n",
    "\n",
    "(l::Linear)(x) = l.W * x .+ l.b\n",
    "(l::Linear)(x,y) = norm(l.W * x .+ l.b .- y, 2)"
   ]
  },
  {
   "cell_type": "code",
   "execution_count": 3,
   "id": "unnecessary-graphics",
   "metadata": {},
   "outputs": [
    {
     "data": {
      "text/plain": [
       "4×10000 Array{Float64,2}:\n",
       "  1.01179     1.10688   -1.30755   …  -0.928794  -0.203992  -1.96328 \n",
       "  0.347247   -0.253724  -0.655867     -0.265327   0.19086    0.982526\n",
       " -0.0663809  -1.71468   -0.573365      0.544118  -0.935005   0.702351\n",
       "  0.438522    1.20973    1.27484      -0.415798  -1.43292    1.83048 "
      ]
     },
     "execution_count": 3,
     "metadata": {},
     "output_type": "execute_result"
    }
   ],
   "source": [
    "#generate fake data points\n",
    "weights_gt = [1.1, 2.8, 1.8, 0.3]'\n",
    "bias_gt = 0.4\n",
    "X = randn(length(weights_gt), 10000)\n",
    "Y = weights_gt * X .+ bias_gt\n",
    "X .+= 0.001.*randn(size(X))"
   ]
  },
  {
   "cell_type": "code",
   "execution_count": 4,
   "id": "conventional-judgment",
   "metadata": {},
   "outputs": [
    {
     "data": {
      "text/plain": [
       "Linear([0.613273 0.578343 0.736697 0.299476], [0.116939])"
      ]
     },
     "execution_count": 4,
     "metadata": {},
     "output_type": "execute_result"
    }
   ],
   "source": [
    "model = Linear(rand(1,4), rand(1))"
   ]
  },
  {
   "cell_type": "code",
   "execution_count": 5,
   "id": "interpreted-ancient",
   "metadata": {},
   "outputs": [
    {
     "data": {
      "text/plain": [
       "sgd_update! (generic function with 2 methods)"
      ]
     },
     "execution_count": 5,
     "metadata": {},
     "output_type": "execute_result"
    }
   ],
   "source": [
    "function sgd_update!(model::Linear, dmodel, η = 0.001)\n",
    "    model.W .-= η .* dmodel.W\n",
    "    model.b -= η * dmodel.b\n",
    "end"
   ]
  },
  {
   "cell_type": "code",
   "execution_count": 6,
   "id": "going-study",
   "metadata": {},
   "outputs": [],
   "source": [
    "#training\n",
    "for idx in 1:10000\n",
    "    i = rand(1:size(X,2))\n",
    "    grads = gradient(model -> model(X[:,i],Y[i]),model)[1][]\n",
    "    sgd_update!(model, grads)\n",
    "end"
   ]
  },
  {
   "cell_type": "code",
   "execution_count": 7,
   "id": "upset-password",
   "metadata": {},
   "outputs": [
    {
     "name": "stderr",
     "output_type": "stream",
     "text": [
      "┌ Info: Ground truth weights: [1.1 2.8 1.8 0.3]\n",
      "└ @ Main In[7]:1\n",
      "┌ Info: Learned weights: [1.103 2.797 1.804 0.299]\n",
      "└ @ Main In[7]:2\n",
      "┌ Info: Ground truth bias: 0.4\n",
      "└ @ Main In[7]:3\n",
      "┌ Info: Learned bias: [0.399]\n",
      "└ @ Main In[7]:4\n"
     ]
    }
   ],
   "source": [
    "@info(\"Ground truth weights: $(weights_gt)\")\n",
    "@info(\"Learned weights: $(round.(model.W; digits=3))\")\n",
    "@info(\"Ground truth bias: $(bias_gt)\")\n",
    "@info(\"Learned bias: $(round.(model.b; digits=3))\")"
   ]
  },
  {
   "cell_type": "code",
   "execution_count": null,
   "id": "diverse-democracy",
   "metadata": {},
   "outputs": [],
   "source": []
  }
 ],
 "metadata": {
  "kernelspec": {
   "display_name": "Julia 1.0.5",
   "language": "julia",
   "name": "julia-1.0"
  },
  "language_info": {
   "file_extension": ".jl",
   "mimetype": "application/julia",
   "name": "julia",
   "version": "1.0.5"
  }
 },
 "nbformat": 4,
 "nbformat_minor": 5
}
